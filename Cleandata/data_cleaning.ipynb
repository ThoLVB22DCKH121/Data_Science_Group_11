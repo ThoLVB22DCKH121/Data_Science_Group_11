{
  "nbformat": 4,
  "nbformat_minor": 0,
  "metadata": {
    "colab": {
      "provenance": []
    },
    "kernelspec": {
      "name": "python3",
      "display_name": "Python 3"
    },
    "language_info": {
      "name": "python"
    }
  },
  "cells": [
    {
      "cell_type": "markdown",
      "source": [
        "**Hiển thị dữ liệu trong file**"
      ],
      "metadata": {
        "id": "VPvo2pysLVZm"
      }
    },
    {
      "cell_type": "code",
      "execution_count": 1,
      "metadata": {
        "colab": {
          "base_uri": "https://localhost:8080/"
        },
        "id": "OMSVZTfGo-LI",
        "outputId": "8c27f9e4-9680-49e5-a2df-38e9e3976346",
        "collapsed": true
      },
      "outputs": [
        {
          "output_type": "stream",
          "name": "stdout",
          "text": [
            "Drive already mounted at /content/drive; to attempt to forcibly remount, call drive.mount(\"/content/drive\", force_remount=True).\n",
            "   index                                   address_original  \\\n",
            "0      1                3/16B Chánh Hưng, 4, 8, Hồ Chí Minh   \n",
            "1      2          61/65 Đường Hùng Vương, 4, 5, Hồ Chí Minh   \n",
            "2      3  77/48/1 Đường Lê Hoàng Phái, 17, Gò Vấp, Hồ Ch...   \n",
            "3      4    440/13/302 Thống Nhất , 16, Gò Vấp, Hồ Chí Minh   \n",
            "4      5  18A/111/14 Đường Nguyễn Thị Minh Khai, Đa Kao,...   \n",
            "5      6  118/52 Đường Huỳnh Thiện Lộc, Hòa Thạnh, Tân P...   \n",
            "6      7  436/59/72 Cách Mạng Tháng Tám, 11, 3, Hồ Chí Minh   \n",
            "7      8                2A Lý Đạo Thành, 16, 8, Hồ Chí Minh   \n",
            "8      9  31/7 Hoàng Văn Hợp, An Lạc A, Bình Tân, Hồ Chí...   \n",
            "9     10  59/34A Đường Trương Đăng Quế, 3, Gò Vấp, Hồ Ch...   \n",
            "\n",
            "                                             address                  price  \\\n",
            "0  3/16B Chánh Hưng, Phường 4, Quận 8, Thành phố ...             7600000000   \n",
            "1  61/65 Đường Hùng Vương, Phường 4, Quận 5, Thàn...            10700000000   \n",
            "2  77/48/1 Đường Lê Hoàng Phái, Phường 17, Gò Vấp...             4950000000   \n",
            "3  440/13/302 Thống Nhất, Phường 16, Gò Vấp, Thàn...             4260000000   \n",
            "4  18A/111/14 Đường Nguyễn Thị Minh Khai, Đa Kao,...             7000000000   \n",
            "5  118/52 Đường Huỳnh Thiện Lộc, Hòa Thạnh, Tân P...             4850000000   \n",
            "6  436/59/72 Cách Mạng Tháng Tám, Phường 11, Quận...             4890000000   \n",
            "7  2A Lý Đạo Thành, Phường 16, Quận 8, Thành phố ...             6000000000   \n",
            "8  31/7 Hoàng Văn Hợp, An Lạc A, Bình Tân, Thành ...             5600000000   \n",
            "9  59/34A Đường Trương Đăng Quế, Phường 3, Gò Vấp...  8.300.000.000.000.000   \n",
            "\n",
            "   type  pType  pWidth  pLength  pArea pLandArea  pNumberOfFloors  \\\n",
            "0  sale  other    4.00    17.78   77.8        56              2.0   \n",
            "1  sale  other    3.50    11.20   56.1      38.8              5.0   \n",
            "2  sale  other    5.73    10.15   86.6      48.9              2.0   \n",
            "3  sale  other    3.27     9.05   56.5      29.7              2.0   \n",
            "4  sale  other    3.00    12.60  77.72      19.8              4.0   \n",
            "5  sale  other    4.95     5.60      0      27.9              3.0   \n",
            "6  sale  other    2.70     6.57   67.1        20              4.0   \n",
            "7  sale  other    9.63     8.90  113.9      62.1              3.0   \n",
            "8  sale  other    3.98    14.24   94.9      54.5              2.0   \n",
            "9  sale  other    3.35    11.95      0        29              4.0   \n",
            "\n",
            "   pNumberOfBathrooms  pNumberOfBedrooms pCertificateType  \\\n",
            "0                 1.0                3.0      certificate   \n",
            "1                 4.0                4.0      certificate   \n",
            "2                 2.0                3.0      certificate   \n",
            "3                 2.0                2.0      certificate   \n",
            "4                 5.0                7.0      certificate   \n",
            "5                 3.0                3.0      certificate   \n",
            "6                 3.0                3.0      certificate   \n",
            "7                 3.0                4.0      certificate   \n",
            "8                 2.0                2.0      certificate   \n",
            "9                 5.0                3.0      certificate   \n",
            "\n",
            "      pFurnitureStatus                                        description  \\\n",
            "0                other  Bán nhà hẻm xe hơi vô 3/26 Tạ Quang Bửu P4, Q8...   \n",
            "1                other  Bán nhà đẹp chính chủ xây thiết kế full nội th...   \n",
            "2                other  Lên sóng căn Villa mini tâm huyết, toạ lạc tại...   \n",
            "3                other  Vị Trí : 404/13/302 Thống Nhất . P16. Gò Vấp H...   \n",
            "4                other  NHÀ BÁN NGAY TRUNG TÂM Q1 SẦM UẤT Nhà 18A/111/...   \n",
            "5                other  Bán nhà 118/52 Huỳnh Thiện Lộc, phường Hòa Thạ...   \n",
            "6                other  436/59/72 CMT8 -P.Nhiêu Lộc-Q3 DT: 2.7 x 6.57m...   \n",
            "7                other  NHÀ MẶT TIỀN CĂN GÓC 2 MẶT TIỀN 2A LÝ ĐẠO THÀN...   \n",
            "8  partially_furnished  Bán nhà hẻm 31/7 Hoàng Văn Hợp, P.An Lạc A, Q....   \n",
            "9                other  Bán Nhà 59/34A Đường trương đăng quế, P3. Q.GV...   \n",
            "\n",
            "                 _createdAt  \n",
            "0  2025-10-24T09:03:23.453Z  \n",
            "1  2025-10-24T08:51:20.780Z  \n",
            "2  2025-10-24T08:34:54.986Z  \n",
            "3  2025-10-24T08:13:03.977Z  \n",
            "4  2025-10-24T07:08:29.123Z  \n",
            "5  2025-10-24T06:42:07.762Z  \n",
            "6  2025-10-24T06:40:42.348Z  \n",
            "7  2025-10-24T06:15:31.581Z  \n",
            "8  2025-10-24T05:27:47.477Z  \n",
            "9  2025-10-24T04:38:10.623Z  \n",
            "Index(['index', 'address_original', 'address', 'price', 'type', 'pType',\n",
            "       'pWidth', 'pLength', 'pArea', 'pLandArea', 'pNumberOfFloors',\n",
            "       'pNumberOfBathrooms', 'pNumberOfBedrooms', 'pCertificateType',\n",
            "       'pFurnitureStatus', 'description', '_createdAt'],\n",
            "      dtype='object')\n",
            "index                   int64\n",
            "address_original       object\n",
            "address                object\n",
            "price                  object\n",
            "type                   object\n",
            "pType                  object\n",
            "pWidth                float64\n",
            "pLength               float64\n",
            "pArea                  object\n",
            "pLandArea              object\n",
            "pNumberOfFloors       float64\n",
            "pNumberOfBathrooms    float64\n",
            "pNumberOfBedrooms     float64\n",
            "pCertificateType       object\n",
            "pFurnitureStatus       object\n",
            "description            object\n",
            "_createdAt             object\n",
            "dtype: object\n"
          ]
        }
      ],
      "source": [
        "import pandas as pd\n",
        "from google.colab import drive\n",
        "import numpy as np\n",
        "drive.mount(\"/content/drive\")\n",
        "file_path = '/content/moso_filtered_20251024_164043.csv'\n",
        "\n",
        "df = pd.read_csv(file_path)\n",
        "\n",
        "print(df.head(10))\n",
        "print(df.columns)\n",
        "print(df.dtypes)"
      ]
    },
    {
      "cell_type": "markdown",
      "source": [
        "**Đưa các dữ liệu giá và kích thước về dạng số thực**"
      ],
      "metadata": {
        "id": "8xMhmgI-eHA0"
      }
    },
    {
      "cell_type": "code",
      "source": [
        "df['price'] = df['price'].astype(str).str.replace('.', '', regex=False)\n",
        "\n",
        "df['price'] = pd.to_numeric(df['price'], errors='coerce').astype(np.float64)\n",
        "df['pArea'] = pd.to_numeric(df['pArea'], errors='coerce').astype(np.float64)\n",
        "df['pLandArea'] = pd.to_numeric(df['pLandArea'], errors='coerce').astype(np.float64)\n",
        "print(df.dtypes)"
      ],
      "metadata": {
        "id": "JHmc4mYbdo0-",
        "colab": {
          "base_uri": "https://localhost:8080/"
        },
        "outputId": "dafc89d8-837b-4382-f805-7ee60a208085"
      },
      "execution_count": 2,
      "outputs": [
        {
          "output_type": "stream",
          "name": "stdout",
          "text": [
            "index                   int64\n",
            "address_original       object\n",
            "address                object\n",
            "price                 float64\n",
            "type                   object\n",
            "pType                  object\n",
            "pWidth                float64\n",
            "pLength               float64\n",
            "pArea                 float64\n",
            "pLandArea             float64\n",
            "pNumberOfFloors       float64\n",
            "pNumberOfBathrooms    float64\n",
            "pNumberOfBedrooms     float64\n",
            "pCertificateType       object\n",
            "pFurnitureStatus       object\n",
            "description            object\n",
            "_createdAt             object\n",
            "dtype: object\n"
          ]
        }
      ]
    },
    {
      "cell_type": "markdown",
      "source": [
        "**Tính ngưỡng logarith trên và dưới để xử lý giá trị ngoại lai**"
      ],
      "metadata": {
        "id": "T9nF0zJ6LvFv"
      }
    },
    {
      "cell_type": "code",
      "source": [
        "df['log_price'] = np.log(df['price']).astype(np.float64)\n",
        "\n",
        "Q1 = df['log_price'].quantile(0.25)\n",
        "Q3 = df['log_price'].quantile(0.75)\n",
        "IQR = Q3 - Q1\n",
        "\n",
        "lower_bound = Q1 - 1.5 * IQR\n",
        "upper_bound = Q3 + 1.5 * IQR\n",
        "\n",
        "outliers = df[\n",
        "    (df['log_price'] < lower_bound) |\n",
        "    (df['log_price'] > upper_bound)\n",
        "]\n",
        "\n",
        "print(f\"Lower Logarithmic Bound: {lower_bound:.4f}\")\n",
        "print(f\"Upper Logarithmic Bound: {upper_bound:.4f}\")\n",
        "print(f\"Total ouliers found: {len(outliers)}\")\n",
        "\n",
        "outlier_data = outliers[['index', 'price', 'log_price', 'pArea', 'pLandArea', 'pType']].sort_values(by='log_price')\n",
        "\n",
        "print(outlier_data)\n"
      ],
      "metadata": {
        "colab": {
          "base_uri": "https://localhost:8080/"
        },
        "id": "FDBpBgNza2nk",
        "outputId": "3d2b42d6-cd7d-4100-9027-8567d1b3bac1"
      },
      "execution_count": 3,
      "outputs": [
        {
          "output_type": "stream",
          "name": "stdout",
          "text": [
            "Lower Logarithmic Bound: 20.7828\n",
            "Upper Logarithmic Bound: 25.0204\n",
            "Total ouliers found: 63\n",
            "      index         price  log_price   pArea  pLandArea        pType\n",
            "1870   1871  1.000000e+09  20.723266    19.1       19.1  alley_house\n",
            "1988   1989  1.050000e+09  20.772056     0.0       15.0  alley_house\n",
            "1458   1459  7.700000e+10  25.067071  1267.3      218.4    townhouse\n",
            "1484   1485  7.900000e+10  25.092714   319.0      101.7    townhouse\n",
            "1754   1755  8.000000e+10  25.105292     0.0      646.6    townhouse\n",
            "...     ...           ...        ...     ...        ...          ...\n",
            "1436   1437  4.100000e+16  38.252348    56.0       28.0  alley_house\n",
            "515     516  4.110000e+16  38.254785    69.0        0.0        other\n",
            "803     804  4.150000e+16  38.264470    64.0       39.0  alley_house\n",
            "28       29  4.150000e+16  38.264470     0.0       29.0        other\n",
            "219     220  4.150000e+16  38.264470    53.8       25.4        other\n",
            "\n",
            "[63 rows x 6 columns]\n"
          ]
        }
      ]
    },
    {
      "cell_type": "markdown",
      "source": [
        "**Xóa các giá trị ngoại lai**"
      ],
      "metadata": {
        "id": "uFDLJ3fUL3Qh"
      }
    },
    {
      "cell_type": "code",
      "source": [
        "indices_to_remove = outliers.index.tolist()\n",
        "indices_to_keep = [1870, 1988]\n",
        "\n",
        "for idx in indices_to_keep:\n",
        "    try:\n",
        "        indices_to_remove.remove(idx)\n",
        "    except ValueError:\n",
        "        pass\n",
        "\n",
        "df = df.drop(indices_to_remove)\n",
        "rows_actually_removed = len(indices_to_remove)\n",
        "print(f\"Số lượng hàng ngoại lai thực tế bị xóa khỏi DataFrame: {rows_actually_removed}\")"
      ],
      "metadata": {
        "id": "t3hyjfmxdRZ4",
        "colab": {
          "base_uri": "https://localhost:8080/"
        },
        "outputId": "3fb6a3e2-e44f-4e88-dfbd-35bde2188d5f"
      },
      "execution_count": 4,
      "outputs": [
        {
          "output_type": "stream",
          "name": "stdout",
          "text": [
            "Số lượng hàng ngoại lai thực tế bị xóa khỏi DataFrame: 61\n"
          ]
        }
      ]
    },
    {
      "cell_type": "markdown",
      "source": [
        " **Đếm số lượng giá trị số 0 hoặc NaN**"
      ],
      "metadata": {
        "id": "Q_ZGxU4WtsU5"
      }
    },
    {
      "cell_type": "code",
      "source": [
        "import pandas as pd\n",
        "import numpy as np\n",
        "\n",
        "columns_to_check = ['pWidth', 'pLength', 'pArea', 'pLandArea']\n",
        "missing_or_zero_counts = {}\n",
        "\n",
        "print(\" Số lượng giá trị Bằng 0 HOẶC NaN trong mỗi cột \")\n",
        "\n",
        "for col in columns_to_check:\n",
        "    if col in df.columns:\n",
        "        # 1. Đếm giá trị bằng 0\n",
        "        zero_count = (df[col].eq(0)).sum()\n",
        "\n",
        "        # 2. Đếm giá trị rỗng (NaN)\n",
        "        nan_count = df[col].isna().sum()\n",
        "\n",
        "        # 3. Tính tổng số lượng giá trị thiếu (0 HOẶC NaN)\n",
        "        total_missing = zero_count + nan_count\n",
        "\n",
        "        missing_or_zero_counts[col] = total_missing\n",
        "        print(f\"Cột '{col}': {total_missing} giá trị thiếu (bao gồm {zero_count} giá trị 0 và {nan_count} giá trị NaN)\")\n",
        "\n",
        "    else:\n",
        "        print(f\"Cột '{col}' không tồn tại trong DataFrame.\")"
      ],
      "metadata": {
        "colab": {
          "base_uri": "https://localhost:8080/"
        },
        "id": "QFtZns2-94Vu",
        "outputId": "f3dec92d-df8b-4f7c-d4a1-db8a398384b3"
      },
      "execution_count": 5,
      "outputs": [
        {
          "output_type": "stream",
          "name": "stdout",
          "text": [
            " Số lượng giá trị Bằng 0 HOẶC NaN trong mỗi cột \n",
            "Cột 'pWidth': 80 giá trị thiếu (bao gồm 77 giá trị 0 và 3 giá trị NaN)\n",
            "Cột 'pLength': 80 giá trị thiếu (bao gồm 77 giá trị 0 và 3 giá trị NaN)\n",
            "Cột 'pArea': 374 giá trị thiếu (bao gồm 368 giá trị 0 và 6 giá trị NaN)\n",
            "Cột 'pLandArea': 94 giá trị thiếu (bao gồm 80 giá trị 0 và 14 giá trị NaN)\n"
          ]
        }
      ]
    },
    {
      "cell_type": "markdown",
      "source": [
        "**Xóa hàng có tất cả dữ liệu kích thước bằng 0 hoặc NaN**"
      ],
      "metadata": {
        "id": "bBd9uLgN4gpN"
      }
    },
    {
      "cell_type": "code",
      "source": [
        "import pandas as pd\n",
        "import numpy as np\n",
        "\n",
        "df_initial_rows = len(df)\n",
        "\n",
        "core_area_cols = ['pArea', 'pLandArea']\n",
        "core_size_cols = ['pWidth', 'pLength']\n",
        "all_cols = core_area_cols + core_size_cols\n",
        "\n",
        "def is_missing_or_zero(series):\n",
        "    \"\"\"Kiểm tra xem một giá trị là 0 HOẶC NaN\"\"\"\n",
        "    return (series.eq(0)) | (series.isna())\n",
        "\n",
        "condition_all_missing = is_missing_or_zero(df[all_cols]).all(axis=1)\n",
        "\n",
        "final_removal_condition = condition_all_missing\n",
        "\n",
        "indices_to_remove = df[final_removal_condition].index\n",
        "\n",
        "df = df.drop(indices_to_remove)\n",
        "\n",
        "rows_removed = len(indices_to_remove)\n",
        "print(\" Xóa hàng với các điều kiện thiếu dữ liệu (0 HOẶC NaN) nghiêm trọng \")\n",
        "print(f\"Số lượng hàng ban đầu: {df_initial_rows}\")\n",
        "print(f\"Số lượng hàng đã xóa: {rows_removed}\")\n",
        "print(f\"Số lượng dữ liệu còn lại: {len(df)}\")"
      ],
      "metadata": {
        "colab": {
          "base_uri": "https://localhost:8080/"
        },
        "id": "n7Q99g0X_Jm4",
        "outputId": "b3792b9c-be55-44b0-9a1d-e3444b86031a"
      },
      "execution_count": 6,
      "outputs": [
        {
          "output_type": "stream",
          "name": "stdout",
          "text": [
            " Xóa hàng với các điều kiện thiếu dữ liệu (0 HOẶC NaN) nghiêm trọng \n",
            "Số lượng hàng ban đầu: 2084\n",
            "Số lượng hàng đã xóa: 43\n",
            "Số lượng dữ liệu còn lại: 2041\n"
          ]
        }
      ]
    },
    {
      "cell_type": "markdown",
      "source": [
        "**Xử lý trường hợp pWidth và pLength bằng 0 hoặc bằng NaN**"
      ],
      "metadata": {
        "id": "pVlzy1K25-6i"
      }
    },
    {
      "cell_type": "code",
      "source": [
        "import pandas as pd\n",
        "import numpy as np\n",
        "\n",
        "print(\" Xử lý pWidth và pLength bằng 0 \")\n",
        "\n",
        "median_pWidth = df[(df['pWidth'] > 0) & (df['pWidth'].notna())]['pWidth'].median()\n",
        "\n",
        "print(f\"Giá trị Trung vị (Median) của pWidth hợp lệ: {median_pWidth:.4f}\")\n",
        "\n",
        "pWidth_is_missing = (df['pWidth'] == 0) | (df['pWidth'].isna())\n",
        "\n",
        "pLength_is_missing = (df['pLength'] == 0) | (df['pLength'].isna())\n",
        "\n",
        "condition_impute= pWidth_is_missing & pLength_is_missing\n",
        "\n",
        "indices_to_impute = df[condition_impute].index\n",
        "rows_to_impute = len(indices_to_impute)\n",
        "\n",
        "if rows_to_impute > 0:\n",
        "    df.loc[indices_to_impute, 'pWidth'] = median_pWidth\n",
        "    df.loc[indices_to_impute, 'pLength'] = np.where(\n",
        "        df.loc[indices_to_impute, 'pWidth'] != 0,\n",
        "        df.loc[indices_to_impute, 'pArea'] / df.loc[indices_to_impute, 'pWidth'], 0\n",
        "    )\n",
        "\n",
        "    print(f\"Đã xử lý và lấp đầy {rows_to_impute} hàng thỏa mãn điều kiện.\")\n",
        "\n",
        "else:\n",
        "    print(\"Không tìm thấy hàng nào mà pWidth và pLength đều bằng 0 để xử lý.\")\n",
        "\n",
        "print(\"\\nKiểm tra lại số lượng giá trị 0 sau khi xử lý:\")\n",
        "print(f\"pWidth còn lại: {(df['pWidth'].eq(0)).sum()} giá trị 0\")\n",
        "print(f\"pLength còn lại: {(df['pLength'].eq(0)).sum()} giá trị 0\")"
      ],
      "metadata": {
        "colab": {
          "base_uri": "https://localhost:8080/"
        },
        "id": "255XMgrlaVtP",
        "outputId": "d4a0251b-e639-4d61-8057-f95effead84c"
      },
      "execution_count": 7,
      "outputs": [
        {
          "output_type": "stream",
          "name": "stdout",
          "text": [
            " Xử lý pWidth và pLength bằng 0 \n",
            "Giá trị Trung vị (Median) của pWidth hợp lệ: 4.0500\n",
            "Đã xử lý và lấp đầy 37 hàng thỏa mãn điều kiện.\n",
            "\n",
            "Kiểm tra lại số lượng giá trị 0 sau khi xử lý:\n",
            "pWidth còn lại: 0 giá trị 0\n",
            "pLength còn lại: 0 giá trị 0\n"
          ]
        }
      ]
    },
    {
      "cell_type": "markdown",
      "source": [
        "**Gán giá trị trong trường hợp pArea hoặc pLandArea là NaN hoặc bằng 0**"
      ],
      "metadata": {
        "id": "yu593_rf4_Wp"
      }
    },
    {
      "cell_type": "code",
      "source": [
        "import numpy as np\n",
        "import pandas as pd\n",
        "\n",
        "print(\" Xử lý giá trị thiếu (0 HOẶC NaN) bằng cách lấp đầy chéo \")\n",
        "\n",
        "#  Xử lý 1: Lấp đầy pLandArea khi nó thiếu và pArea hợp lệ\n",
        "pLandArea_is_missing = (df['pLandArea'] == 0) | (df['pLandArea'].isna())\n",
        "\n",
        "pArea_is_valid = (df['pArea'] != 0) & (df['pArea'].notna())\n",
        "\n",
        "condition_1 = pLandArea_is_missing & pArea_is_valid\n",
        "\n",
        "df['pLandArea'] = np.where(\n",
        "    condition_1,\n",
        "    df['pArea'],\n",
        "    df['pLandArea']\n",
        ")\n",
        "rows_filled_pLandArea = condition_1.sum()\n",
        "print(f\"Đã lấp đầy {rows_filled_pLandArea} giá trị thiếu/0 trong cột 'pLandArea' bằng giá trị 'pArea'.\")\n",
        "\n",
        "#  Xử lý 2: Lấp đầy pArea khi nó thiếu và pLandArea hợp lệ\n",
        "pArea_is_missing = (df['pArea'] == 0) | (df['pArea'].isna())\n",
        "\n",
        "pLandArea_is_valid = (df['pLandArea'] != 0) & (df['pLandArea'].notna())\n",
        "\n",
        "condition_2 = pArea_is_missing & pLandArea_is_valid\n",
        "\n",
        "df['pArea'] = np.where(\n",
        "    condition_2,\n",
        "    df['pLandArea'],\n",
        "    df['pArea']\n",
        ")\n",
        "rows_filled_pArea = condition_2.sum()\n",
        "print(f\"Đã lấp đầy {rows_filled_pArea} giá trị thiếu/0 trong cột 'pArea' bằng giá trị 'pLandArea'.\")\n",
        "\n",
        "print(\"\\nKiểm tra số lượng giá trị thiếu còn lại:\")\n",
        "\n",
        "# Kiểm tra số lượng giá trị thiếu (0 HOẶC NaN) còn lại\n",
        "pLandArea_missing_count = (df['pLandArea'] == 0).sum() + df['pLandArea'].isna().sum()\n",
        "pArea_missing_count = (df['pArea'] == 0).sum() + df['pArea'].isna().sum()\n",
        "\n",
        "print(f\"pLandArea còn lại: {pLandArea_missing_count} giá trị thiếu (0 hoặc NaN)\")\n",
        "print(f\"pArea còn lại: {pArea_missing_count} giá trị thiếu (0 hoặc NaN)\")"
      ],
      "metadata": {
        "id": "LVDfeotmAzLB",
        "outputId": "876d7c1d-ec0b-4776-fef9-e01f544072e5",
        "colab": {
          "base_uri": "https://localhost:8080/"
        }
      },
      "execution_count": 8,
      "outputs": [
        {
          "output_type": "stream",
          "name": "stdout",
          "text": [
            " Xử lý giá trị thiếu (0 HOẶC NaN) bằng cách lấp đầy chéo \n",
            "Đã lấp đầy 45 giá trị thiếu/0 trong cột 'pLandArea' bằng giá trị 'pArea'.\n",
            "Đã lấp đầy 325 giá trị thiếu/0 trong cột 'pArea' bằng giá trị 'pLandArea'.\n",
            "\n",
            "Kiểm tra số lượng giá trị thiếu còn lại:\n",
            "pLandArea còn lại: 6 giá trị thiếu (0 hoặc NaN)\n",
            "pArea còn lại: 6 giá trị thiếu (0 hoặc NaN)\n"
          ]
        }
      ]
    },
    {
      "cell_type": "markdown",
      "source": [
        "**Thay thế các giá trị thiếu của pArea và pLandArea bằng pWidth và pLength**"
      ],
      "metadata": {
        "id": "65AbwBwp5pMr"
      }
    },
    {
      "cell_type": "code",
      "source": [
        "import numpy as np\n",
        "import pandas as pd\n",
        "\n",
        "print(\" Lấp đầy diện tích bị thiếu (0 HOẶC NaN) bằng Kích thước (pWidth * pLength) \")\n",
        "\n",
        "is_area_missing = (df['pArea'].eq(0)) | (df['pArea'].isna())\n",
        "is_land_area_missing = (df['pLandArea'].eq(0)) | (df['pLandArea'].isna())\n",
        "is_width_valid = (df['pWidth'] > 0) & (df['pWidth'].notna())\n",
        "is_length_valid = (df['pLength'] > 0) & (df['pLength'].notna())\n",
        "\n",
        "estimated_area = df['pWidth'] * df['pLength']\n",
        "\n",
        "final_imputation_condition = (\n",
        "    is_area_missing &\n",
        "    is_land_area_missing &\n",
        "    is_width_valid &\n",
        "    is_length_valid\n",
        ")\n",
        "\n",
        "df['pLandArea'] = np.where(\n",
        "    final_imputation_condition,\n",
        "    estimated_area,\n",
        "    df['pLandArea']\n",
        ")\n",
        "rows_filled_pLandArea = final_imputation_condition.sum()\n",
        "\n",
        "df['pArea'] = np.where(\n",
        "    final_imputation_condition,\n",
        "    estimated_area,\n",
        "    df['pArea']\n",
        ")\n",
        "rows_filled_pArea = final_imputation_condition.sum()\n",
        "\n",
        "\n",
        "print(f\"Đã lấp đầy {rows_filled_pLandArea} giá trị thiếu/0 trong cột 'pLandArea'.\")\n",
        "print(f\"Đã lấp đầy {rows_filled_pArea} giá trị thiếu/0 trong cột 'pArea'.\")\n",
        "\n",
        "print(\"\\nKiểm tra số lượng giá trị thiếu (0 hoặc NaN) còn lại:\")\n",
        "pLandArea_missing = (df['pLandArea'].eq(0)).sum() + df['pLandArea'].isna().sum()\n",
        "pArea_missing = (df['pArea'].eq(0)).sum() + df['pArea'].isna().sum()\n",
        "\n",
        "print(f\"pLandArea còn lại: {pLandArea_missing} giá trị thiếu.\")\n",
        "print(f\"pArea còn lại: {pArea_missing} giá trị thiếu.\")"
      ],
      "metadata": {
        "id": "9-WHAefyGy4Z",
        "outputId": "6faa5990-e121-405a-d246-5c9063a861c1",
        "colab": {
          "base_uri": "https://localhost:8080/"
        }
      },
      "execution_count": 9,
      "outputs": [
        {
          "output_type": "stream",
          "name": "stdout",
          "text": [
            " Lấp đầy diện tích bị thiếu (0 HOẶC NaN) bằng Kích thước (pWidth * pLength) \n",
            "Đã lấp đầy 6 giá trị thiếu/0 trong cột 'pLandArea'.\n",
            "Đã lấp đầy 6 giá trị thiếu/0 trong cột 'pArea'.\n",
            "\n",
            "Kiểm tra số lượng giá trị thiếu (0 hoặc NaN) còn lại:\n",
            "pLandArea còn lại: 0 giá trị thiếu.\n",
            "pArea còn lại: 0 giá trị thiếu.\n"
          ]
        }
      ]
    },
    {
      "cell_type": "markdown",
      "source": [
        "**Kiểm tra lại xem còn giá trị bị thiếu không**"
      ],
      "metadata": {
        "id": "o7ZjChys-XZo"
      }
    },
    {
      "cell_type": "code",
      "source": [
        "import pandas as pd\n",
        "import numpy as np\n",
        "\n",
        "columns_to_check = ['pWidth', 'pLength', 'pArea', 'pLandArea']\n",
        "missing_or_zero_counts = {}\n",
        "\n",
        "print(\" Số lượng giá trị Bằng 0 HOẶC NaN trong mỗi cột \")\n",
        "\n",
        "for col in columns_to_check:\n",
        "    if col in df.columns:\n",
        "        # 1. Đếm giá trị bằng 0\n",
        "        zero_count = (df[col].eq(0)).sum()\n",
        "\n",
        "        # 2. Đếm giá trị rỗng (NaN)\n",
        "        nan_count = df[col].isna().sum()\n",
        "\n",
        "        # 3. Tính tổng số lượng giá trị thiếu (0 HOẶC NaN)\n",
        "        total_missing = zero_count + nan_count\n",
        "\n",
        "        missing_or_zero_counts[col] = total_missing\n",
        "        print(f\"Cột '{col}': {total_missing} giá trị thiếu (bao gồm {zero_count} giá trị 0 và {nan_count} giá trị NaN)\")\n",
        "\n",
        "    else:\n",
        "        print(f\"Cột '{col}' không tồn tại trong DataFrame.\")"
      ],
      "metadata": {
        "id": "M1eujlAO-Wc2",
        "outputId": "c4f84398-56fe-4ff7-9e01-00280b71fea1",
        "colab": {
          "base_uri": "https://localhost:8080/"
        }
      },
      "execution_count": 10,
      "outputs": [
        {
          "output_type": "stream",
          "name": "stdout",
          "text": [
            " Số lượng giá trị Bằng 0 HOẶC NaN trong mỗi cột \n",
            "Cột 'pWidth': 0 giá trị thiếu (bao gồm 0 giá trị 0 và 0 giá trị NaN)\n",
            "Cột 'pLength': 0 giá trị thiếu (bao gồm 0 giá trị 0 và 0 giá trị NaN)\n",
            "Cột 'pArea': 0 giá trị thiếu (bao gồm 0 giá trị 0 và 0 giá trị NaN)\n",
            "Cột 'pLandArea': 0 giá trị thiếu (bao gồm 0 giá trị 0 và 0 giá trị NaN)\n"
          ]
        }
      ]
    },
    {
      "cell_type": "markdown",
      "source": [
        "**Kiểm tra các giá trị trong cột pArea và pLandArea**"
      ],
      "metadata": {
        "id": "000fVpcgj-7Z"
      }
    },
    {
      "cell_type": "code",
      "source": [
        "import pandas as pd\n",
        "\n",
        "columns_to_show = ['pArea', 'pLandArea']\n",
        "\n",
        "for col in columns_to_show:\n",
        "    if col in df.columns:\n",
        "        print(f\" 10 Giá trị lớn nhất trong cột '{col}' \")\n",
        "        sorted_values = df[col].dropna().sort_values(ascending=False).head(10)\n",
        "        print(sorted_values)\n",
        "        print('\\n')\n",
        "    else:\n",
        "        print(f\": Cột '{col}' không tồn tại trong DataFrame.\")"
      ],
      "metadata": {
        "id": "_mCfbCDJf8QR",
        "outputId": "97a50bfb-719e-4b38-d5f5-e7076e93205c",
        "colab": {
          "base_uri": "https://localhost:8080/"
        }
      },
      "execution_count": 11,
      "outputs": [
        {
          "output_type": "stream",
          "name": "stdout",
          "text": [
            " 10 Giá trị lớn nhất trong cột 'pArea' \n",
            "1088    7832.0\n",
            "1281    1365.0\n",
            "349     1209.0\n",
            "406     1066.4\n",
            "1885    1038.2\n",
            "500     1009.0\n",
            "1791     989.2\n",
            "469      983.7\n",
            "1390     935.8\n",
            "978      933.8\n",
            "Name: pArea, dtype: float64\n",
            "\n",
            "\n",
            " 10 Giá trị lớn nhất trong cột 'pLandArea' \n",
            "1088    7832.00\n",
            "1162    2423.00\n",
            "1924    1266.10\n",
            "1885    1038.20\n",
            "978      933.80\n",
            "1876     705.00\n",
            "41       637.80\n",
            "1887     628.25\n",
            "783      616.90\n",
            "301      606.00\n",
            "Name: pLandArea, dtype: float64\n",
            "\n",
            "\n"
          ]
        }
      ]
    },
    {
      "cell_type": "markdown",
      "source": [
        "**Xóa 2 giá trị có lỗi nhập liệu sai khác lớn**"
      ],
      "metadata": {
        "id": "xOJNTm7ojsEi"
      }
    },
    {
      "cell_type": "code",
      "source": [
        "import pandas as pd\n",
        "\n",
        "col_to_sort = 'pLandArea'\n",
        "\n",
        "df_sorted = df.sort_values(by=col_to_sort, ascending=False)\n",
        "\n",
        "indices_to_drop = df_sorted.head(2).index.tolist()\n",
        "\n",
        "initial_rows = len(df)\n",
        "\n",
        "df.drop(indices_to_drop, inplace=True)\n",
        "\n",
        "print(f\" Xóa Outliers Lớn nhất \")\n",
        "print(f\"Đã xóa thành công 2 hàng có giá trị '{col_to_sort}' lớn nhất.\")\n",
        "print(f\"Các index đã bị xóa là: {indices_to_drop}\")\n",
        "print(f\"Số lượng hàng ban đầu: {initial_rows}\")\n",
        "print(f\"Số lượng hàng còn lại: {len(df)}\")"
      ],
      "metadata": {
        "id": "a2Vmpk6gmlAS",
        "outputId": "a1186a45-57c7-425d-9894-23e75cf5d0d9",
        "colab": {
          "base_uri": "https://localhost:8080/"
        }
      },
      "execution_count": 12,
      "outputs": [
        {
          "output_type": "stream",
          "name": "stdout",
          "text": [
            " Xóa Outliers Lớn nhất \n",
            "Đã xóa thành công 2 hàng có giá trị 'pLandArea' lớn nhất.\n",
            "Các index đã bị xóa là: [1088, 1162]\n",
            "Số lượng hàng ban đầu: 2041\n",
            "Số lượng hàng còn lại: 2039\n"
          ]
        }
      ]
    },
    {
      "cell_type": "markdown",
      "source": [
        "**Xử lý các giá trị NaN**"
      ],
      "metadata": {
        "id": "AFoODHG86zTh"
      }
    },
    {
      "cell_type": "code",
      "source": [
        "import pandas as pd\n",
        "import numpy as np\n",
        "\n",
        "df_initial_rows = len(df)\n",
        "\n",
        "cols_numeric = [\n",
        "    'pNumberOfFloors', 'pNumberOfBathrooms', 'pNumberOfBedrooms'\n",
        "]\n",
        "col_categorical = ['pFurnitureStatus', 'pCertificateType']\n",
        "all_cols_to_check = cols_numeric + col_categorical\n",
        "\n",
        "print(\" Lấp đầy Giá trị Rỗng (NaN) \")\n",
        "\n",
        "for col in cols_numeric:\n",
        "    if col in df.columns:\n",
        "        median_value = df[col].median()\n",
        "        rows_filled = df[col].isna().sum()\n",
        "\n",
        "        df[col] = df[col].fillna(median_value)\n",
        "\n",
        "        print(f\"Cột '{col}': Đã lấp đầy {rows_filled} giá trị NaN bằng Trung vị ({median_value:.2f}).\")\n",
        "    else:\n",
        "        print(f\": Cột số '{col}' không tồn tại.\")\n",
        "\n",
        "for col_categorical_index in col_categorical:\n",
        "  if col_categorical_index in df.columns:\n",
        "      rows_filled_cat = df[col_categorical_index].isna().sum()\n",
        "      df[col_categorical_index] = df[col_categorical_index].fillna('other')\n",
        "\n",
        "      print(f\"Cột '{col_categorical_index}': Đã lấp đầy {rows_filled_cat} giá trị NaN bằng 'other'.\")\n",
        "  else:\n",
        "      print(f\": Cột phân loại '{col_categorical_index}' không tồn tại.\")\n",
        "\n",
        "print(\"\\n Kiểm tra lại số lượng giá trị rỗng (NaN) \")\n",
        "total_nan_after_imputation = 0\n",
        "for col in all_cols_to_check:\n",
        "    if col in df.columns:\n",
        "        nan_count_after = df[col].isna().sum()\n",
        "        total_nan_after_imputation += nan_count_after\n",
        "        print(f\"Cột '{col}': {nan_count_after} giá trị NaN còn lại.\")\n",
        "\n",
        "print(f\"\\nTổng số NaN còn lại trong các cột đã xử lý: {total_nan_after_imputation}\")"
      ],
      "metadata": {
        "id": "32CnkAfWpIOK",
        "outputId": "fe55cad8-942a-4e31-9af3-e631a2b8354f",
        "colab": {
          "base_uri": "https://localhost:8080/"
        }
      },
      "execution_count": 13,
      "outputs": [
        {
          "output_type": "stream",
          "name": "stdout",
          "text": [
            " Lấp đầy Giá trị Rỗng (NaN) \n",
            "Cột 'pNumberOfFloors': Đã lấp đầy 6 giá trị NaN bằng Trung vị (3.00).\n",
            "Cột 'pNumberOfBathrooms': Đã lấp đầy 4 giá trị NaN bằng Trung vị (3.00).\n",
            "Cột 'pNumberOfBedrooms': Đã lấp đầy 4 giá trị NaN bằng Trung vị (3.00).\n",
            "Cột 'pFurnitureStatus': Đã lấp đầy 9 giá trị NaN bằng 'other'.\n",
            "Cột 'pCertificateType': Đã lấp đầy 0 giá trị NaN bằng 'other'.\n",
            "\n",
            " Kiểm tra lại số lượng giá trị rỗng (NaN) \n",
            "Cột 'pNumberOfFloors': 0 giá trị NaN còn lại.\n",
            "Cột 'pNumberOfBathrooms': 0 giá trị NaN còn lại.\n",
            "Cột 'pNumberOfBedrooms': 0 giá trị NaN còn lại.\n",
            "Cột 'pFurnitureStatus': 0 giá trị NaN còn lại.\n",
            "Cột 'pCertificateType': 0 giá trị NaN còn lại.\n",
            "\n",
            "Tổng số NaN còn lại trong các cột đã xử lý: 0\n"
          ]
        }
      ]
    },
    {
      "cell_type": "markdown",
      "source": [
        "**Tách các quận thuộc địa chỉ**"
      ],
      "metadata": {
        "id": "59EbjzR8Z0Wh"
      }
    },
    {
      "cell_type": "code",
      "source": [
        "columns_to_drop1 = ['index', 'address_original', 'type', 'description', '_createdAt']\n",
        "df = df.drop(columns=columns_to_drop1, errors='ignore')\n",
        "\n",
        "df['address_part'] = df['address'].str.split(',')\n",
        "df['district'] = df['address_part'].str[-2].str.strip()\n",
        "df = df.drop(columns=['address_part', 'address'], errors='ignore')\n",
        "\n",
        "print(\"\\n5 giá trị đầu tiên của cột 'district' mới:\")\n",
        "print(df['district'].head())"
      ],
      "metadata": {
        "id": "NLtW95EpG9ue",
        "colab": {
          "base_uri": "https://localhost:8080/"
        },
        "outputId": "707badf2-e6f1-4227-e2a8-9e92f39f936f"
      },
      "execution_count": 14,
      "outputs": [
        {
          "output_type": "stream",
          "name": "stdout",
          "text": [
            "\n",
            "5 giá trị đầu tiên của cột 'district' mới:\n",
            "0    Quận 8\n",
            "1    Quận 5\n",
            "2    Gò Vấp\n",
            "3    Gò Vấp\n",
            "4    Quận 1\n",
            "Name: district, dtype: object\n"
          ]
        }
      ]
    },
    {
      "cell_type": "markdown",
      "source": [
        "**Chuẩn hóa cho tên quận**"
      ],
      "metadata": {
        "id": "ttJNhnTl6l0X"
      }
    },
    {
      "cell_type": "code",
      "source": [
        "import pandas as pd\n",
        "import re\n",
        "\n",
        "district_col = 'district'\n",
        "\n",
        "def normalize_district_name(district):\n",
        "\n",
        "    # Chuẩn hóa tên quận\n",
        "\n",
        "    if pd.isna(district):\n",
        "        return district\n",
        "\n",
        "    district = str(district).strip()\n",
        "\n",
        "    district_lower = district.lower()\n",
        "\n",
        "    if 'thủ đức cũ' in district_lower:\n",
        "        return 'Quận Thủ Đức'\n",
        "\n",
        "    if re.match(r'^\\d+$', district):\n",
        "        return 'Quận ' + district\n",
        "\n",
        "    # Kiểm tra xem chuỗi đã bắt đầu bằng 'Quận ' hoặc 'Huyện ' hay chưa\n",
        "    if not (district_lower.startswith('quận ') or district_lower.startswith('huyện ')):\n",
        "        return 'Quận ' + district\n",
        "    return district\n",
        "\n",
        "# Áp dụng hàm chuẩn hóa cho toàn bộ cột 'district'\n",
        "df[district_col] = df[district_col].apply(normalize_district_name)\n",
        "\n",
        "print(\"Đã thêm tiền tố 'Quận ' cho tất cả các hàng thiếu.\")\n",
        "print(df[district_col].unique()[:10])"
      ],
      "metadata": {
        "id": "bOiQvkOxgTKB",
        "outputId": "df42b544-b7ec-447c-c885-0d094450b2a6",
        "colab": {
          "base_uri": "https://localhost:8080/"
        }
      },
      "execution_count": 15,
      "outputs": [
        {
          "output_type": "stream",
          "name": "stdout",
          "text": [
            "Đã thêm tiền tố 'Quận ' cho tất cả các hàng thiếu.\n",
            "['Quận 8' 'Quận 5' 'Quận Gò Vấp' 'Quận 1' 'Quận Tân Phú' 'Quận 3'\n",
            " 'Quận Bình Tân' 'Quận 12' 'Quận Tân Bình' 'Quận 10']\n"
          ]
        }
      ]
    },
    {
      "cell_type": "markdown",
      "source": [
        "**Tải file về máy dùng cho visualize**"
      ],
      "metadata": {
        "id": "JpU6ouj27ayk"
      }
    },
    {
      "cell_type": "code",
      "source": [
        "import pandas as pd\n",
        "from google.colab import files\n",
        "\n",
        "df_cleaned = df.copy()\n",
        "\n",
        "file_name = 'data_for_visualize.csv'\n",
        "\n",
        "df_cleaned.to_csv(file_name, index=False, encoding='utf-8-sig')\n",
        "\n",
        "print(f\"Đã lưu DataFrame thành công dưới tên '{file_name}'\")\n",
        "files.download(file_name)"
      ],
      "metadata": {
        "id": "Ft9G1rZTWCP5",
        "colab": {
          "base_uri": "https://localhost:8080/",
          "height": 35
        },
        "outputId": "e527a000-76cb-4522-8a07-e00b9141dba0"
      },
      "execution_count": 16,
      "outputs": [
        {
          "output_type": "stream",
          "name": "stdout",
          "text": [
            "Đã lưu DataFrame thành công dưới tên 'data_for_visualize.csv'\n"
          ]
        },
        {
          "output_type": "display_data",
          "data": {
            "text/plain": [
              "<IPython.core.display.Javascript object>"
            ],
            "application/javascript": [
              "\n",
              "    async function download(id, filename, size) {\n",
              "      if (!google.colab.kernel.accessAllowed) {\n",
              "        return;\n",
              "      }\n",
              "      const div = document.createElement('div');\n",
              "      const label = document.createElement('label');\n",
              "      label.textContent = `Downloading \"${filename}\": `;\n",
              "      div.appendChild(label);\n",
              "      const progress = document.createElement('progress');\n",
              "      progress.max = size;\n",
              "      div.appendChild(progress);\n",
              "      document.body.appendChild(div);\n",
              "\n",
              "      const buffers = [];\n",
              "      let downloaded = 0;\n",
              "\n",
              "      const channel = await google.colab.kernel.comms.open(id);\n",
              "      // Send a message to notify the kernel that we're ready.\n",
              "      channel.send({})\n",
              "\n",
              "      for await (const message of channel.messages) {\n",
              "        // Send a message to notify the kernel that we're ready.\n",
              "        channel.send({})\n",
              "        if (message.buffers) {\n",
              "          for (const buffer of message.buffers) {\n",
              "            buffers.push(buffer);\n",
              "            downloaded += buffer.byteLength;\n",
              "            progress.value = downloaded;\n",
              "          }\n",
              "        }\n",
              "      }\n",
              "      const blob = new Blob(buffers, {type: 'application/binary'});\n",
              "      const a = document.createElement('a');\n",
              "      a.href = window.URL.createObjectURL(blob);\n",
              "      a.download = filename;\n",
              "      div.appendChild(a);\n",
              "      a.click();\n",
              "      div.remove();\n",
              "    }\n",
              "  "
            ]
          },
          "metadata": {}
        },
        {
          "output_type": "display_data",
          "data": {
            "text/plain": [
              "<IPython.core.display.Javascript object>"
            ],
            "application/javascript": [
              "download(\"download_e0e7ba3a-1fc6-471d-9455-0582440050bd\", \"data_for_visualize.csv\", 228141)"
            ]
          },
          "metadata": {}
        }
      ]
    },
    {
      "cell_type": "markdown",
      "source": [
        "**Thực hiện one-hot encoding**"
      ],
      "metadata": {
        "id": "JCbvRv3v7hKf"
      }
    },
    {
      "cell_type": "code",
      "source": [
        "import pandas as pd\n",
        "import numpy as np\n",
        "\n",
        "col_district = 'district'\n",
        "cols_with_is_prefix = ['pType', 'pCertificateType', 'pFurnitureStatus']\n",
        "\n",
        "print(\" Thực hiện One-Hot Encoding Tùy chỉnh \")\n",
        "\n",
        "district_dummies = pd.get_dummies(df[col_district], drop_first=True)\n",
        "\n",
        "other_dummies = pd.get_dummies(df[cols_with_is_prefix], drop_first=True)\n",
        "\n",
        "df_cleaned = df.drop(columns=[col_district] + cols_with_is_prefix, errors='ignore').copy()\n",
        "\n",
        "df_cleaned = pd.concat([df_cleaned, district_dummies, other_dummies], axis=1)\n",
        "\n",
        "#Điều chỉnh tên cột\n",
        "new_columns = df_cleaned.columns\n",
        "\n",
        "# Duyệt và đổi tên\n",
        "rename_map = {}\n",
        "for col in new_columns:\n",
        "    #Thêm tiền tố 'is_' cho các cột pType, pCertificateType, pFurnitureStatus\n",
        "    for prefix in cols_with_is_prefix:\n",
        "        if col.startswith(prefix + '_'):\n",
        "            # Xử lý tên cột nếu nó là danh mục 'other'\n",
        "            if col.endswith('_other'):\n",
        "                new_name = f\"{prefix}_is_other\"\n",
        "            else:\n",
        "                # Thêm tiền tố 'is_' và xóa tiền tố gốc\n",
        "                new_name = f\"is_{col[len(prefix) + 1:]}\"\n",
        "            rename_map[col] = new_name\n",
        "            break # Chuyển sang cột tiếp theo\n",
        "\n",
        "df_cleaned.rename(columns=rename_map, inplace=True)\n",
        "\n",
        "print(\"Hoàn thành mã hóa. Các cột mới đã được tạo và đổi tên.\")\n",
        "print(\"\\nKiểm tra các cột OHE (ví dụ):\")\n",
        "print([col for col in df_cleaned.columns if 'is_' in col or col in district_dummies.columns][:10])\n",
        "\n",
        "df = df_cleaned.copy()"
      ],
      "metadata": {
        "id": "2dryTtt9Yh8S",
        "colab": {
          "base_uri": "https://localhost:8080/"
        },
        "outputId": "7bf978db-6475-455b-83e5-e898d34924f6"
      },
      "execution_count": 17,
      "outputs": [
        {
          "output_type": "stream",
          "name": "stdout",
          "text": [
            " Thực hiện One-Hot Encoding Tùy chỉnh \n",
            "Hoàn thành mã hóa. Các cột mới đã được tạo và đổi tên.\n",
            "\n",
            "Kiểm tra các cột OHE (ví dụ):\n",
            "['Quận 1', 'Quận 10', 'Quận 11', 'Quận 12', 'Quận 2', 'Quận 3', 'Quận 4', 'Quận 5', 'Quận 6', 'Quận 7']\n"
          ]
        }
      ]
    },
    {
      "cell_type": "markdown",
      "source": [
        "**Chuyển true/false về 1/0**"
      ],
      "metadata": {
        "id": "A7BRj44I7s7W"
      }
    },
    {
      "cell_type": "code",
      "source": [
        "# Lấy danh sách các cột OHE (có kiểu dữ liệu là bool)\n",
        "ohe_cols = df.select_dtypes(include=['bool']).columns\n",
        "\n",
        "# Thực hiện chuyển đổi\n",
        "df[ohe_cols] = df[ohe_cols].astype(int)\n",
        "\n",
        "print(\"Đã chuyển đổi các cột One-Hot từ True/False sang 1/0 thành công.\")\n",
        "print(df[ohe_cols].head(3))"
      ],
      "metadata": {
        "id": "hggXQU-pdszw",
        "colab": {
          "base_uri": "https://localhost:8080/"
        },
        "outputId": "31dd526b-5799-45e4-ccff-56d040ae595c"
      },
      "execution_count": 18,
      "outputs": [
        {
          "output_type": "stream",
          "name": "stdout",
          "text": [
            "Đã chuyển đổi các cột One-Hot từ True/False sang 1/0 thành công.\n",
            "   Quận 1  Quận 10  Quận 11  Quận 12  Quận 2  Quận 3  Quận 4  Quận 5  Quận 6  \\\n",
            "0       0        0        0        0       0       0       0       0       0   \n",
            "1       0        0        0        0       0       0       0       1       0   \n",
            "2       0        0        0        0       0       0       0       0       0   \n",
            "\n",
            "   Quận 7  ...  is_townhouse  is_villa  pCertificateType_is_other  \\\n",
            "0       0  ...             0         0                          0   \n",
            "1       0  ...             0         0                          0   \n",
            "2       0  ...             0         0                          0   \n",
            "\n",
            "   is_pending_certificate  is_share_certificate  is_transfer_agreement  \\\n",
            "0                       0                     0                      0   \n",
            "1                       0                     0                      0   \n",
            "2                       0                     0                      0   \n",
            "\n",
            "   is_under_completion  pFurnitureStatus_is_other  is_partially_furnished  \\\n",
            "0                    0                          1                       0   \n",
            "1                    0                          1                       0   \n",
            "2                    0                          1                       0   \n",
            "\n",
            "   is_unfurnished  \n",
            "0               0  \n",
            "1               0  \n",
            "2               0  \n",
            "\n",
            "[3 rows x 39 columns]\n"
          ]
        }
      ]
    },
    {
      "cell_type": "markdown",
      "source": [
        "Kiểm tra số lượng giá trị là 1 trong các cột one-hot"
      ],
      "metadata": {
        "id": "SNNNRohhkiX5"
      }
    },
    {
      "cell_type": "code",
      "source": [
        "import pandas as pd\n",
        "\n",
        "ohe_prefixes = [\n",
        "    'Quận', 'Huyện', 'is_', 'pType_', 'pCertificateType_', 'pFurnitureStatus_'\n",
        "]\n",
        "\n",
        "# 1. Lọc ra các cột OHE\n",
        "ohe_cols_names = [\n",
        "    col for col in df.columns if\n",
        "    col.startswith('Quận') or\n",
        "    col.startswith('Huyện') or # Thêm Huyện nếu cần\n",
        "    col.startswith('is_') or\n",
        "    col.startswith('pType_') or\n",
        "    col.startswith('pCertificateType_') or\n",
        "    col.startswith('pFurnitureStatus_')\n",
        "]\n",
        "\n",
        "print(\"--- Tần suất Xuất hiện của các Danh mục OHE (Số lượng giá trị '1') ---\")\n",
        "\n",
        "ohe_counts = df[ohe_cols_names].sum().sort_values(ascending=False)\n",
        "\n",
        "print(\"\\n6 Cột One-Hot có Tần suất cao nhất (Nhiều '1' nhất):\")\n",
        "print(ohe_counts.head(10))\n",
        "\n",
        "print(\"\\n\" + \"=\"*50)\n",
        "\n",
        "print(\"6 Cột One-Hot có Tần suất thấp nhất (Ít '1' nhất):\")\n",
        "print(ohe_counts.tail(10))"
      ],
      "metadata": {
        "id": "npva_XrCFVW6",
        "colab": {
          "base_uri": "https://localhost:8080/"
        },
        "outputId": "5694a766-6175-41df-d331-0a31dc7900b2"
      },
      "execution_count": 19,
      "outputs": [
        {
          "output_type": "stream",
          "name": "stdout",
          "text": [
            "--- Tần suất Xuất hiện của các Danh mục OHE (Số lượng giá trị '1') ---\n",
            "\n",
            "6 Cột One-Hot có Tần suất cao nhất (Nhiều '1' nhất):\n",
            "pFurnitureStatus_is_other    1323\n",
            "is_alley_house                959\n",
            "is_partially_furnished        596\n",
            "pType_is_other                569\n",
            "is_townhouse                  330\n",
            "Quận Bình Tân                 236\n",
            "Quận Tân Bình                 235\n",
            "Quận Gò Vấp                   231\n",
            "Quận Tân Phú                  198\n",
            "Quận 12                       155\n",
            "dtype: int64\n",
            "\n",
            "==================================================\n",
            "6 Cột One-Hot có Tần suất thấp nhất (Ít '1' nhất):\n",
            "Quận 2                       15\n",
            "is_shophouse                 15\n",
            "Quận Bình Chánh              14\n",
            "Quận Củ Chi                   7\n",
            "is_share_certificate          5\n",
            "pCertificateType_is_other     4\n",
            "is_apartment_building         2\n",
            "is_pending_certificate        1\n",
            "is_transfer_agreement         1\n",
            "is_under_completion           1\n",
            "dtype: int64\n"
          ]
        }
      ]
    },
    {
      "cell_type": "markdown",
      "source": [
        "**Gộp các cột one-hot**"
      ],
      "metadata": {
        "id": "mq5831sWjEa9"
      }
    },
    {
      "cell_type": "code",
      "source": [
        "import pandas as pd\n",
        "import numpy as np\n",
        "\n",
        "certificate_cols_to_merge = [\n",
        "    'is_share_certificate',\n",
        "    'is_under_completion',\n",
        "    'is_pending_certificate',\n",
        "    'is_transfer_agreement'\n",
        "]\n",
        "\n",
        "existing_certificate_cols = [col for col in certificate_cols_to_merge if col in df.columns]\n",
        "\n",
        "if existing_certificate_cols:\n",
        "    if 'pCertificateType_is_other' not in df.columns:\n",
        "        df['pCertificateType_is_other'] = 0\n",
        "\n",
        "    df['pCertificateType_is_other'] = df[existing_certificate_cols + ['pCertificateType_is_other']].max(axis=1)\n",
        "\n",
        "    df.drop(columns=existing_certificate_cols, inplace=True)\n",
        "\n",
        "    print(f\"Đã gộp và xóa các cột: {existing_certificate_cols}\")\n",
        "    print(f\"Giá trị mới của 'pCertificateType_is_other': {df['pCertificateType_is_other'].sum()} (Số lượng '1')\")\n",
        "else:\n",
        "    print(\"Không tìm thấy các cột cần gộp trong DataFrame.\")\n",
        "\n",
        "\n",
        "#Gộp cột is_apartment_building vào is_apartment\n",
        "col_source = 'is_apartment_building'\n",
        "col_target = 'is_apartment'\n",
        "\n",
        "if col_source in df.columns and col_target in df.columns:\n",
        "    df[col_target] = np.maximum(df[col_target], df[col_source])\n",
        "\n",
        "    df.drop(columns=[col_source], inplace=True)\n",
        "\n",
        "    print(f\"Giá trị mới của '{col_target}': {df[col_target].sum()} (Số lượng '1')\")\n",
        "elif col_source in df.columns or col_target in df.columns:\n",
        "    print(\"Một hoặc cả hai cột 'is_apartment_building'/'is_apartment' không tồn tại.\")"
      ],
      "metadata": {
        "id": "955kFNUOdXkG",
        "colab": {
          "base_uri": "https://localhost:8080/"
        },
        "outputId": "d4732493-352d-413b-ae69-cde3153900e8"
      },
      "execution_count": 20,
      "outputs": [
        {
          "output_type": "stream",
          "name": "stdout",
          "text": [
            "Đã gộp và xóa các cột: ['is_share_certificate', 'is_under_completion', 'is_pending_certificate', 'is_transfer_agreement']\n",
            "Giá trị mới của 'pCertificateType_is_other': 12 (Số lượng '1')\n",
            "Giá trị mới của 'is_apartment': 38 (Số lượng '1')\n"
          ]
        }
      ]
    },
    {
      "cell_type": "markdown",
      "source": [
        "**Giảm chiều dữ liệu sử dụng PCA**"
      ],
      "metadata": {
        "id": "HiS_C13LkWG1"
      }
    },
    {
      "cell_type": "code",
      "source": [
        "from sklearn.preprocessing import StandardScaler\n",
        "from sklearn.decomposition import PCA\n",
        "cols_for_pca = ['pWidth', 'pLength', 'pArea', 'pLandArea']\n",
        "\n",
        "# Khởi tạo Scaler và chuẩn hóa dữ liệu\n",
        "scaler = StandardScaler()\n",
        "df_scaled = scaler.fit_transform(df[cols_for_pca])\n",
        "\n",
        "pca = PCA(n_components=3)\n",
        "\n",
        "principal_components = pca.fit_transform(df_scaled)\n",
        "\n",
        "df_pca = pd.DataFrame(data = principal_components,\n",
        "                     columns = ['PC1_Size', 'PC2_Size', 'PC3_Size'],\n",
        "                     index = df.index)\n",
        "\n",
        "# Kiểm tra tỷ lệ phương sai được giải thích\n",
        "explained_variance_ratio = pca.explained_variance_ratio_.sum()\n",
        "print(\" Kết quả Phân tích Thành phần Chính (PCA) \")\n",
        "print(f\"Tổng phương sai được giải thích bởi 3 PC: {explained_variance_ratio*100:.2f}%\")\n",
        "\n",
        "df.drop(columns=cols_for_pca, inplace=True)\n",
        "\n",
        "df_final = pd.concat([df, df_pca], axis=1)\n",
        "\n",
        "print(f\"\\nDataFrame cuối cùng đã được giảm chiều. Số cột mới là:\")\n",
        "print(df_final[['PC1_Size', 'PC2_Size', 'PC3_Size']].head())\n",
        "\n",
        "# Gán lại df\n",
        "df = df_final.copy()"
      ],
      "metadata": {
        "id": "CCh5E-HVmjF4",
        "colab": {
          "base_uri": "https://localhost:8080/"
        },
        "outputId": "526e9ff9-9a24-4a70-fe4d-ddbe7a99e24f"
      },
      "execution_count": 21,
      "outputs": [
        {
          "output_type": "stream",
          "name": "stdout",
          "text": [
            " Kết quả Phân tích Thành phần Chính (PCA) \n",
            "Tổng phương sai được giải thích bởi 3 PC: 94.13%\n",
            "\n",
            "DataFrame cuối cùng đã được giảm chiều. Số cột mới là:\n",
            "   PC1_Size  PC2_Size  PC3_Size\n",
            "0 -0.457528 -0.409690 -0.344591\n",
            "1 -1.067163 -0.042720 -0.103576\n",
            "2 -0.691957  0.477146 -0.058091\n",
            "3 -1.268494  0.061789  0.040619\n",
            "4 -1.101780 -0.249518  0.074421\n"
          ]
        }
      ]
    },
    {
      "cell_type": "markdown",
      "source": [
        "**Tải file training**"
      ],
      "metadata": {
        "id": "woOIOJerkS9_"
      }
    },
    {
      "cell_type": "code",
      "source": [
        "import pandas as pd\n",
        "from google.colab import files\n",
        "\n",
        "df_cleaned = df.copy()\n",
        "\n",
        "if 'price' in df_cleaned.columns:\n",
        "    df_cleaned.drop(columns=['price'], inplace=True)\n",
        "\n",
        "cols_to_front = ['PC1_Size', 'PC2_Size', \"PC3_Size\"]\n",
        "\n",
        "current_cols = df_cleaned.columns.tolist()\n",
        "\n",
        "other_cols = [col for col in current_cols if col not in cols_to_front]\n",
        "\n",
        "new_col_order = cols_to_front + other_cols\n",
        "\n",
        "df_cleaned = df_cleaned[new_col_order]\n",
        "\n",
        "file_name = 'data_for_training.csv'\n",
        "\n",
        "df_cleaned.to_csv(file_name, index=False, encoding='utf-8-sig')\n",
        "\n",
        "print(f\"Đã lưu DataFrame thành công dưới tên '{file_name}'\")\n",
        "\n",
        "files.download(file_name)"
      ],
      "metadata": {
        "id": "3agQTev4G_Ep",
        "colab": {
          "base_uri": "https://localhost:8080/",
          "height": 35
        },
        "outputId": "8a9959d1-dbd0-4192-c475-85119c9d54d0"
      },
      "execution_count": 22,
      "outputs": [
        {
          "output_type": "stream",
          "name": "stdout",
          "text": [
            "Đã lưu DataFrame thành công dưới tên 'data_for_training.csv'\n"
          ]
        },
        {
          "output_type": "display_data",
          "data": {
            "text/plain": [
              "<IPython.core.display.Javascript object>"
            ],
            "application/javascript": [
              "\n",
              "    async function download(id, filename, size) {\n",
              "      if (!google.colab.kernel.accessAllowed) {\n",
              "        return;\n",
              "      }\n",
              "      const div = document.createElement('div');\n",
              "      const label = document.createElement('label');\n",
              "      label.textContent = `Downloading \"${filename}\": `;\n",
              "      div.appendChild(label);\n",
              "      const progress = document.createElement('progress');\n",
              "      progress.max = size;\n",
              "      div.appendChild(progress);\n",
              "      document.body.appendChild(div);\n",
              "\n",
              "      const buffers = [];\n",
              "      let downloaded = 0;\n",
              "\n",
              "      const channel = await google.colab.kernel.comms.open(id);\n",
              "      // Send a message to notify the kernel that we're ready.\n",
              "      channel.send({})\n",
              "\n",
              "      for await (const message of channel.messages) {\n",
              "        // Send a message to notify the kernel that we're ready.\n",
              "        channel.send({})\n",
              "        if (message.buffers) {\n",
              "          for (const buffer of message.buffers) {\n",
              "            buffers.push(buffer);\n",
              "            downloaded += buffer.byteLength;\n",
              "            progress.value = downloaded;\n",
              "          }\n",
              "        }\n",
              "      }\n",
              "      const blob = new Blob(buffers, {type: 'application/binary'});\n",
              "      const a = document.createElement('a');\n",
              "      a.href = window.URL.createObjectURL(blob);\n",
              "      a.download = filename;\n",
              "      div.appendChild(a);\n",
              "      a.click();\n",
              "      div.remove();\n",
              "    }\n",
              "  "
            ]
          },
          "metadata": {}
        },
        {
          "output_type": "display_data",
          "data": {
            "text/plain": [
              "<IPython.core.display.Javascript object>"
            ],
            "application/javascript": [
              "download(\"download_f930296d-6773-4be9-b263-ae260c9821c1\", \"data_for_training.csv\", 323639)"
            ]
          },
          "metadata": {}
        }
      ]
    }
  ]
}