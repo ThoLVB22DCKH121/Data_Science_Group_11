{
  "cells": [
    {
      "cell_type": "code",
      "execution_count": 2,
      "metadata": {
        "colab": {
          "base_uri": "https://localhost:8080/"
        },
        "id": "pSbF2gAiaV7e",
        "outputId": "5f6c5323-307d-4876-a5a6-bb698e859378"
      },
      "outputs": [
        {
          "name": "stdout",
          "output_type": "stream",
          "text": [
            "   PC1_Size  PC2_Size  PC3_Size  pNumberOfFloors  pNumberOfBathrooms  \\\n",
            "0 -0.457528 -0.409690 -0.344591              2.0                 1.0   \n",
            "1 -1.067163 -0.042720 -0.103576              5.0                 4.0   \n",
            "2 -0.691957  0.477146 -0.058091              2.0                 2.0   \n",
            "3 -1.268494  0.061789  0.040619              2.0                 2.0   \n",
            "4 -1.101780 -0.249518  0.074421              4.0                 5.0   \n",
            "\n",
            "   pNumberOfBedrooms  log_price  Quận 1  Quận 10  Quận 11  ...  is_apartment  \\\n",
            "0                3.0  22.751414       0        0        0  ...             0   \n",
            "1                4.0  23.093510       0        0        0  ...             0   \n",
            "2                3.0  22.322653       0        0        0  ...             0   \n",
            "3                2.0  22.172535       0        0        0  ...             0   \n",
            "4                7.0  22.669176       1        0        0  ...             0   \n",
            "\n",
            "   is_land  pType_is_other  is_shophouse  is_townhouse  is_villa  \\\n",
            "0        0               1             0             0         0   \n",
            "1        0               1             0             0         0   \n",
            "2        0               1             0             0         0   \n",
            "3        0               1             0             0         0   \n",
            "4        0               1             0             0         0   \n",
            "\n",
            "   pCertificateType_is_other  pFurnitureStatus_is_other  \\\n",
            "0                          0                          1   \n",
            "1                          0                          1   \n",
            "2                          0                          1   \n",
            "3                          0                          1   \n",
            "4                          0                          1   \n",
            "\n",
            "   is_partially_furnished  is_unfurnished  \n",
            "0                       0               0  \n",
            "1                       0               0  \n",
            "2                       0               0  \n",
            "3                       0               0  \n",
            "4                       0               0  \n",
            "\n",
            "[5 rows x 41 columns]\n"
          ]
        }
      ],
      "source": [
        "import pandas as pd\n",
        "df = pd.read_csv(\"data_for_training_final.csv\")\n",
        "print(df.head())\n",
        "X = df.drop('log_price', axis=1)\n",
        "y = df['log_price']"
      ]
    },
    {
      "cell_type": "markdown",
      "metadata": {
        "id": "Jtd0jyjbcK3K"
      },
      "source": [
        "Chia tập train/test"
      ]
    },
    {
      "cell_type": "code",
      "execution_count": 3,
      "metadata": {
        "id": "MQVQpjZ0cPlu"
      },
      "outputs": [],
      "source": [
        "from sklearn.model_selection import train_test_split\n",
        "X_train, X_test, y_train, y_test = train_test_split(X, y, test_size=0.2, random_state=42)"
      ]
    },
    {
      "cell_type": "markdown",
      "metadata": {
        "id": "ZH--pKuDWWQK"
      },
      "source": [
        "Huấn luyện"
      ]
    },
    {
      "cell_type": "code",
      "execution_count": 4,
      "metadata": {
        "colab": {
          "base_uri": "https://localhost:8080/"
        },
        "id": "n_2XE9z1TVxw",
        "outputId": "f0738fc3-58d6-4f5d-db69-c5b1a11a3813"
      },
      "outputs": [
        {
          "name": "stdout",
          "output_type": "stream",
          "text": [
            "MAE: 0.2559577370802781\n",
            "MSE: 0.11793291390319356\n",
            "R2: 0.7651939887049527\n",
            "RMSE: 0.3434136192744743\n",
            "Mean residual: 0.01607868540311092\n"
          ]
        }
      ],
      "source": [
        "from sklearn.svm import SVR\n",
        "from sklearn.metrics import mean_squared_error, r2_score, mean_absolute_error\n",
        "from sklearn.model_selection import GridSearchCV, KFold\n",
        "from sklearn.pipeline import Pipeline\n",
        "import numpy as np\n",
        "\n",
        "# pipe = Pipeline([\n",
        "#     ('svr', SVR())\n",
        "# ])\n",
        "\n",
        "# param_grid = {\n",
        "#     'svr__kernel': ['rbf'],\n",
        "#     'svr__C': [0.1, 1, 10, 100, 1000],\n",
        "#     'svr__epsilon': [1e-3, 0.01, 0.1, 0.5, 1.0],\n",
        "#     'svr__gamma': ['scale', 'auto']\n",
        "# }\n",
        "\n",
        "# cv = KFold(n_splits=5, shuffle=True, random_state=1)\n",
        "# gs = GridSearchCV(pipe, param_grid, scoring='neg_mean_squared_error', cv=cv, n_jobs=-1, verbose=2)\n",
        "# gs.fit(X_train, y_train)\n",
        "\n",
        "# print(\"Best params:\", gs.best_params_)\n",
        "# best = gs.best_estimator_\n",
        "\n",
        "model_svr = SVR(\n",
        "    kernel='rbf',\n",
        "    C=10,\n",
        "    epsilon=0.1,\n",
        "    gamma='scale'\n",
        ")\n",
        "\n",
        "model_svr.fit(X_train, y_train)\n",
        "\n",
        "y_pred = model_svr.predict(X_test)\n",
        "print(\"MAE:\", mean_absolute_error(y_test, y_pred))\n",
        "print(\"MSE:\", mean_squared_error(y_test, y_pred))\n",
        "print(\"R2:\", r2_score(y_test, y_pred))\n",
        "print(\"RMSE:\", np.sqrt(mean_squared_error(y_test, y_pred)))\n",
        "print(\"Mean residual:\", np.mean(y_test - y_pred))\n"
      ]
    }
  ],
  "metadata": {
    "colab": {
      "provenance": []
    },
    "kernelspec": {
      "display_name": "Python 3",
      "name": "python3"
    },
    "language_info": {
      "codemirror_mode": {
        "name": "ipython",
        "version": 3
      },
      "file_extension": ".py",
      "mimetype": "text/x-python",
      "name": "python",
      "nbconvert_exporter": "python",
      "pygments_lexer": "ipython3",
      "version": "3.10.0"
    }
  },
  "nbformat": 4,
  "nbformat_minor": 0
}
